{
 "cells": [
  {
   "cell_type": "markdown",
   "id": "47bb7b7f",
   "metadata": {},
   "source": [
    "decorator function: a functino that takes a function as a parameter;  The code of that decorator function will call the passed-in function along with any other code before or after.\n",
    "\n",
    "\n",
    "NEW auto grader!\n",
    "OPEN CODESPACE ON GITHUB   (shit) \n",
    "OPEN TERMINAL\n",
    "enter 'testcode' at the prompt and enter\n",
    "look at markdown file called testresults, open with markdown preview and review results; rinse and repeat"
   ]
  }
 ],
 "metadata": {
  "language_info": {
   "name": "python"
  }
 },
 "nbformat": 4,
 "nbformat_minor": 5
}
